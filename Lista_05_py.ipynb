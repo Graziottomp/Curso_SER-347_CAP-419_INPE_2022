{
  "nbformat": 4,
  "nbformat_minor": 0,
  "metadata": {
    "colab": {
      "provenance": [],
      "authorship_tag": "ABX9TyMpiHS8ScF/nFft13i0R3CB",
      "include_colab_link": true
    },
    "kernelspec": {
      "name": "python3",
      "display_name": "Python 3"
    },
    "language_info": {
      "name": "python"
    }
  },
  "cells": [
    {
      "cell_type": "markdown",
      "metadata": {
        "id": "view-in-github",
        "colab_type": "text"
      },
      "source": [
        "<a href=\"https://colab.research.google.com/github/Graziottomp/Curso_SER-347_CAP-419_INPE_2022/blob/main/Lista_05_py.ipynb\" target=\"_parent\"><img src=\"https://colab.research.google.com/assets/colab-badge.svg\" alt=\"Open In Colab\"/></a>"
      ]
    },
    {
      "cell_type": "markdown",
      "source": [
        "1. A USGS define uma convenção para nomenclatura dos arquivos com produtos do sensor MODIS. Por exemplo, um arquivo com nome MOD09A1.A2006001.h08v05.005.2006012234657.hdf pode ser interpretado da seguinte forma:\n",
        "\n",
        "MOD09A1 - Product Short Name\n",
        "MOD: Terra Satellite\n",
        "A2006001 - Julian Date of Acquisition (A-YYYYDDD)\n",
        "h08v05 - Tile Identifier (horizontalXXverticalYY)\n",
        "005 - Collection Version\n",
        "2006012234567 - Julian Date of Production (YYYYDDDHHMMSS)\n",
        "hdf - Data Format (HDF-EOS)\n",
        "Faça um programa em Python que leia o nome de um arquivo, e escreva na saída padrão o seguinte resultado:\n",
        "\n",
        "Satellite...............: Terra\n",
        "Product.................: MOD09A1\n",
        "Year of Acquisition.....: 2006\n",
        "Julian Day..............: 001\n",
        "Horizontal Tile.........: 08\n",
        "Vertical Tile...........: 05\n",
        "Collection..............: 005\n",
        "Year of Production......: 2006\n",
        "Julian Day of Production: 012\n",
        "Production Hour.........: 23\n",
        "Production Minute.......: 46\n",
        "Production Second.......: 57\n",
        "Data Format.............: hdf"
      ],
      "metadata": {
        "id": "dSi27sXrY7y7"
      }
    },
    {
      "cell_type": "code",
      "execution_count": null,
      "metadata": {
        "colab": {
          "base_uri": "https://localhost:8080/"
        },
        "id": "KNE7MI9XY43Y",
        "outputId": "4ee1d994-9a1a-4588-debc-ac164121200f"
      },
      "outputs": [
        {
          "output_type": "stream",
          "name": "stdout",
          "text": [
            "{'Satellite': 'Terra', 'Product': 'MOD09A1', 'Year of Acquisition': '2006', 'Julian Day': '001', 'Horizontal Tile': '08', 'Vertical Tile': '05', 'Collection': '005', 'Year of Production': '2006', 'Julian Day of Production': '012', 'Production Hour': '23', 'Production Minute': '46', 'Production Second': '57', 'Data Format': 'hdf'}\n"
          ]
        }
      ],
      "source": [
        "filename = 'MOD09A1.A2006001.h08v05.005.2006012234657.hdf'\n",
        "\n",
        "#definindo a função\n",
        "def get_metadata(filename):\n",
        "\n",
        "# criar variavel vazia com o dicionario\n",
        "# para retornar ao final da funcao\n",
        "\n",
        "  saida = {}\n",
        "\n",
        "# preencher metadados para MOD\n",
        "#MOD09A1.A2006001.h08v05.005.2006012234657.hdf\n",
        "  if 'MOD' in filename:\n",
        "    saida ['Satellite'] =  'Terra'\n",
        "    saida ['Product'] = filename [0:7]\n",
        "    saida ['Year of Acquisition'] = filename [9:13]\n",
        "    saida ['Julian Day'] = filename [13:16]\n",
        "    saida ['Horizontal Tile'] = filename [18:20]\n",
        "    saida ['Vertical Tile'] = filename[21:23]\n",
        "    saida ['Collection'] = filename [24:27]\n",
        "    saida ['Year of Production'] = filename [28:32]\n",
        "    saida ['Julian Day of Production'] = filename [32:35]\n",
        "    saida ['Production Hour'] = filename [35:37]\n",
        "    saida ['Production Minute'] = filename [37:39]\n",
        "    saida ['Production Second'] = filename [39:41]\n",
        "    saida ['Data Format'] = filename[42:46]\n",
        "\n",
        "# terminar a funcao\n",
        "\n",
        "  return saida\n",
        "\n",
        "# testar a funcao\n",
        "\n",
        "print(get_metadata(filename))"
      ]
    },
    {
      "cell_type": "markdown",
      "source": [
        "2. Para criar uma senha na internet, geralmente são aplicados critérios de força da senha. Neste exercício, uma senha forte possui caracteres maiúsculos e minúsculos, e tem pelo menos 8 caracteres. Do contrário, é fraca. Crie um programa que leia uma senha e retorne se ela é forte ou fraca."
      ],
      "metadata": {
        "id": "Hs0Gn1WV0Ppm"
      }
    },
    {
      "cell_type": "code",
      "source": [
        "import getpass\n",
        "\n",
        "def n_lower_chars(string):\n",
        "    return sum(1 for c in string if c.islower())\n",
        "def n_upper_chars(string):\n",
        "    return sum(1 for c in string if c.isupper())\n",
        "\n"
      ],
      "metadata": {
        "id": "RDPtZjX3esj5"
      },
      "execution_count": null,
      "outputs": []
    },
    {
      "cell_type": "markdown",
      "source": [
        "3. Tomando como base os operadores disponíveis em Python documentation - String Methods, apresente as operações para converter os elementos da coluna string de entrada nos resultados apresentados na coluna string de saída.\n"
      ],
      "metadata": {
        "id": "NFDczxiTeVTk"
      }
    },
    {
      "cell_type": "code",
      "source": [],
      "metadata": {
        "id": "lFwTYeJP0RnH"
      },
      "execution_count": null,
      "outputs": []
    },
    {
      "cell_type": "markdown",
      "source": [
        "4. Faça um programa que verifique se uma string é um palíndromo. Exemplos de palíndromos: ana, arara, anilina, asa, mussum, osso, reviver, salas, ralar, madam, rotor, level, civic. Nesse caso, acentos e símbolos devem ser desconsiderados, e não há diferença entre maiúsculas e minúsculas."
      ],
      "metadata": {
        "id": "Zfb09xW4elRz"
      }
    },
    {
      "cell_type": "code",
      "source": [
        "#input para o usuario introduzir a string\n",
        "#desconsiderando espaços antes e depois (strip)\n",
        "#e maiuscula e minuscula (upper)\n",
        "\n",
        "palavra= input('Escreva uma palavra qualquer: ').strip().upper()\n",
        "\n",
        "import unicodedata\n",
        "\n",
        "palavra1= unicodedata.normalize('NFC', palavra)\n",
        "\n",
        "#invertendo a palavra para leitura de tras para frente\n",
        "\n",
        "inverso = palavra1[::-1]\n",
        "\n",
        "print(palavra1 , inverso)\n",
        "\n",
        "for letra in range(len(palavra1) -1, -1 -1):\n",
        "  inverso += palavra1[letra]\n",
        "\n",
        "#vendo se é um palindromo\n",
        "\n",
        "if inverso == palavra1:\n",
        "  print('A palavra {} é um palíndromo' .format(palavra))\n",
        "\n",
        "else:\n",
        "  print('A palavra {} não é um palíndromo' .format(palavra))"
      ],
      "metadata": {
        "colab": {
          "base_uri": "https://localhost:8080/"
        },
        "id": "Yg-WfLidetKi",
        "outputId": "a6a94cb6-0ae6-44fc-c6b2-c971ce7dbd29"
      },
      "execution_count": null,
      "outputs": [
        {
          "output_type": "stream",
          "name": "stdout",
          "text": [
            "Escreva uma palavra qualquer: Voluntário\n",
            "VOLUNTÁRIO OIRÁTNULOV\n",
            "A palavra VOLUNTÁRIO não é um palíndromo\n"
          ]
        }
      ]
    },
    {
      "cell_type": "markdown",
      "source": [
        "5. Faça um programa que leia uma frase e verifique se é um palíndromo. Nesse caso, os espaços, acentos e símbolos devem ser desconsiderados, e não há diferença entre maiúsculas e minúsculas. Exemplos de frases palíndromos: Never odd or even, ROMA TIBI SUBITO MOTIBUS IBIT AMOR, Socorram-me, subi no ônibus em Marrocos!."
      ],
      "metadata": {
        "id": "DBUm8PW8emjj"
      }
    },
    {
      "cell_type": "code",
      "source": [
        "#input para o usuario introduzir a frase\n",
        "#desconsiderando espaços antes e depois (strip)\n",
        "#e maiuscula e minuscula (upper)\n",
        "\n",
        "frase= input('Escreva uma frase qualquer: ').strip().upper()\n",
        "\n",
        "#separando as palavras (split), e depois tirando os espaços para juntar tudo (join)\n",
        "\n",
        "palavra = frase.split()\n",
        "junto= ''.join(palavra)\n",
        "\n",
        "#invertendo a palavra para leitura de tras para frente\n",
        "\n",
        "inverso = junto[::-1]\n",
        "\n",
        "print(junto , inverso)\n",
        "\n",
        "for letra in range(len(junto) -1, -1 -1):\n",
        "  inverso += junto[letra]\n",
        "\n",
        "#vendo se é um palindromo\n",
        "\n",
        "if inverso == junto:\n",
        "  print('A frase {} é um palíndromo' .format(frase))\n",
        "\n",
        "else:\n",
        "  print('A frase {} não é um palíndromo' .format(frase))"
      ],
      "metadata": {
        "colab": {
          "base_uri": "https://localhost:8080/"
        },
        "id": "Vd_1T_8retoh",
        "outputId": "5761f3d4-5100-4ffc-8257-4d6dd2ae2895"
      },
      "execution_count": null,
      "outputs": [
        {
          "output_type": "stream",
          "name": "stdout",
          "text": [
            "Escreva uma frase qualquer: Never odd or even\n",
            "NEVERODDOREVEN NEVERODDOREVEN\n",
            "A frase NEVER ODD OR EVEN é um palíndromo\n"
          ]
        }
      ]
    }
  ]
}