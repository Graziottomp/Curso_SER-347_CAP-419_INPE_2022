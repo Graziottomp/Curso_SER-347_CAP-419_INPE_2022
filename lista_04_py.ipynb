{
  "nbformat": 4,
  "nbformat_minor": 0,
  "metadata": {
    "colab": {
      "provenance": [],
      "authorship_tag": "ABX9TyP/bP+ie4OiUQdzt/m+F96F",
      "include_colab_link": true
    },
    "kernelspec": {
      "name": "python3",
      "display_name": "Python 3"
    },
    "language_info": {
      "name": "python"
    }
  },
  "cells": [
    {
      "cell_type": "markdown",
      "metadata": {
        "id": "view-in-github",
        "colab_type": "text"
      },
      "source": [
        "<a href=\"https://colab.research.google.com/github/Graziottomp/Curso_SER-347_CAP-419_INPE_2022/blob/main/lista_04_py.ipynb\" target=\"_parent\"><img src=\"https://colab.research.google.com/assets/colab-badge.svg\" alt=\"Open In Colab\"/></a>"
      ]
    },
    {
      "cell_type": "markdown",
      "source": [
        "1. Faça um programa para computar e apresentar a sequência de cada uma das seguintes séries numéricas, depois de ler um número inteiro :\n",
        "\n",
        "Lucas: 2, 1, 3, 4, 7, 11, 18, 29, 47, ....\n",
        "\n",
        "Pell: 0, 1, 2, 5, 12, 29, 70, 169, 408, ....\n",
        "\n",
        "Triangular: 0, 1, 3, 6, 10, 15, 21, 28, 36, ....\n",
        "\n",
        "Square: 0, 1, 4, 9, 16, 25, 36, 49, 64, ....\n",
        "\n",
        "Pentagonal: 0, 1, 5, 12, 22, 35, 51, 70, 92, ....\n",
        "\n",
        "\n"
      ],
      "metadata": {
        "id": "NHLPCIf8kMXh"
      }
    },
    {
      "cell_type": "code",
      "source": [
        "#Criando as funções de cada série\n",
        "\n",
        "#Lucas\n",
        "\n",
        "def Ln():\n",
        "\n",
        "  n = int(input('Digite um número >= 0'))\n",
        "\n",
        "  if n == 0 :\n",
        "      print('Ln = ',2)\n",
        "\n",
        "  elif n == 1:\n",
        "      print('Ln = ',1)\n",
        "\n",
        "  elif n > 1:\n",
        "\n",
        "      Ln= (n - 1) + (n - 2)\n",
        "\n",
        "      print(\"Ln = \", Ln)\n",
        "\n",
        "#Pell\n",
        "\n",
        "def Pn():\n",
        "\n",
        "  n = int(input('Digite um número >= 0'))\n",
        "\n",
        "  if n == 0 :\n",
        "      print('Pn = ',0)\n",
        "  elif n == 1:\n",
        "      print('Pn = ',1)\n",
        "  elif n > 1:\n",
        "\n",
        "      Pn = 2 * (n - 1) + (n - 2)\n",
        "\n",
        "      print(\"Pn = \", Pn)\n",
        "\n",
        "#Triangular\n",
        "\n",
        "def T():\n",
        "\n",
        "  n = int(input('Digite um número >= 0'))\n",
        "\n",
        "  T = n * (n + 1) / 2\n",
        "\n",
        "  print('T = ', T)\n",
        "\n",
        "#Square\n",
        "\n",
        "def S():\n",
        "\n",
        "  n = int(input('Digite um número >= 0'))\n",
        "\n",
        "  S = n ** 2\n",
        "\n",
        "  print('S = ', S)\n",
        "\n",
        "#Pentagonal\n",
        "\n",
        "def P():\n",
        "\n",
        "  n = int(input('Digite um número >= 0'))\n",
        "\n",
        "  P = (3 * (n ** 2) - n) / 2\n",
        "\n",
        "  print('P = ', P)\n",
        "\n",
        "\n",
        "#iniciando o programa ao usuario\n",
        "\n",
        "print('''Olá, qual série você deseja computar?\n",
        "              -Lucas;\n",
        "              -Pell;\n",
        "              -Triangular;\n",
        "              -Square;\n",
        "              -Pentagonal''')\n",
        "q = input('Escreva sua opção: ')\n",
        "\n",
        "#condicional de qual das séries irá ser calculada.\n",
        "\n",
        "if q == 'Lucas':\n",
        "  Ln();\n",
        "\n",
        "elif q == 'Pell':\n",
        "  Pn();\n",
        "\n",
        "elif q == 'Triangular':\n",
        "  T();\n",
        "\n",
        "elif q == 'Square':\n",
        "  S();\n",
        "\n",
        "elif q == 'Pentagonal':\n",
        "  P();\n",
        "\n",
        "else:\n",
        "  print('Até logo!')"
      ],
      "metadata": {
        "colab": {
          "base_uri": "https://localhost:8080/"
        },
        "id": "D26_CxROkZCX",
        "outputId": "cebc1574-2e71-4536-9514-7e62a1cd7899"
      },
      "execution_count": null,
      "outputs": [
        {
          "output_type": "stream",
          "name": "stdout",
          "text": [
            "Olá, qual série você deseja computar?\n",
            "              -Lucas;\n",
            "              -Pell;\n",
            "              -Triangular;\n",
            "              -Square;\n",
            "              -Pentagonal\n",
            "Escreva sua opção: Square\n",
            "Digite um número >= 05\n",
            "S =  25\n"
          ]
        }
      ]
    }
  ]
}